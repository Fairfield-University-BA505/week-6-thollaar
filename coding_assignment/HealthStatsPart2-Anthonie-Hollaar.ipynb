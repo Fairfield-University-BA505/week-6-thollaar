{
 "cells": [
  {
   "cell_type": "markdown",
   "metadata": {},
   "source": [
    "# Health Stats Part 1: Waist 2 Hip Ratios"
   ]
  },
  {
   "cell_type": "markdown",
   "metadata": {},
   "source": [
    "<!--- Write an explanation of the Waist To Hips Ratio statistic used by health professionals. Please include an explanation of what it is used for, exactly how it is calculated, and how to interpret the results. Note: Formmatting matters. Make this as professional as you can using Markdown.  --->\n",
    "\n",
    "<!--- feel free to use any web resources, including [Wikipedia](https://en.wikipedia.org/wiki/Waist%E2%80%93hip_ratio) or any other resources that you can find online. Just MAKE SURE you provide a link to every resource you decide to use. --->\n",
    "\n",
    "<!--- Including the formula, or that fancy diagram/table you see on wikipedia is DEFINITELY a good idea! How? The LaTeX equations section in [This link](https://jupyter-notebook.readthedocs.io/en/stable/examples/Notebook/Working%20With%20Markdown%20Cells.html) might help. --->\n",
    "\n",
    "<!--- For extra points, try to create a table similar to the one on the wikipedia page on your own. --->\n",
    "\n",
    "__EDIT THIS MARKDOWN CELL__"
   ]
  },
  {
   "cell_type": "markdown",
   "metadata": {},
   "source": [
    "## Source Data"
   ]
  },
  {
   "cell_type": "markdown",
   "metadata": {},
   "source": [
    "<!--- Replace the text below with a Markdown bullet list that defines the columns of the CSV file. Be sure to indicate the data type for each column. --->\n",
    "\n",
    "<!--- Example can be: ID, unique identifier of each person, integer. Remember you need to put this into a bullet list! How? [This link](https://jupyter-notebook.readthedocs.io/en/stable/examples/Notebook/Working%20With%20Markdown%20Cells.html) might help. --->\n",
    "\n",
    "<!--- These two markdown cells are required in almost any analytical report. --->\n",
    "\n",
    "__EDIT THIS MARKDOWN CELL__\n",
    "\n",
    "W2H Ratio\n",
    "- point1\n",
    "- point2\n",
    "\n",
    "<img src = 'https://upload.wikimedia.org/wikipedia/commons/3/34/Abdominal_obesity_in_men.jpg' />\n",
    "\n",
    "| header1 | header2 |\n",
    "| ------- | ------- |\n",
    "| cell1 | cell 2 |\n",
    "\n",
    "$ ratio_{w2h} = \\frac{w}{h} $"
   ]
  },
  {
   "cell_type": "markdown",
   "metadata": {},
   "source": [
    "## Data Import"
   ]
  },
  {
   "cell_type": "code",
   "execution_count": 5,
   "metadata": {
    "collapsed": true
   },
   "outputs": [],
   "source": [
    "# Goal: Extract the data from the file\n",
    "\n",
    "# opens the w2h_data.csv for reading\n",
    "f = open(\"w2h_data.csv\", \"r\")\n",
    "\n",
    "# loads the file into a list of strings, one string per line\n",
    "raw_lines = list(f)\n",
    "\n",
    "# closes the file\n",
    "f.close()"
   ]
  },
  {
   "cell_type": "code",
   "execution_count": 6,
   "metadata": {
    "collapsed": true
   },
   "outputs": [
    {
     "name": "stdout",
     "output_type": "stream",
     "text": [
      "[{'ID': 1, 'Waist': 30, 'Hip': 32, 'Gender': 'M'}, {'ID': 2, 'Waist': 32, 'Hip': 37, 'Gender': 'M'}, {'ID': 3, 'Waist': 30, 'Hip': 36, 'Gender': 'M'}, {'ID': 4, 'Waist': 33, 'Hip': 39, 'Gender': 'M'}, {'ID': 5, 'Waist': 29, 'Hip': 33, 'Gender': 'M'}, {'ID': 6, 'Waist': 32, 'Hip': 38, 'Gender': 'M'}, {'ID': 7, 'Waist': 33, 'Hip': 42, 'Gender': 'M'}, {'ID': 8, 'Waist': 30, 'Hip': 40, 'Gender': 'M'}, {'ID': 9, 'Waist': 30, 'Hip': 37, 'Gender': 'M'}, {'ID': 10, 'Waist': 32, 'Hip': 39, 'Gender': 'M'}, {'ID': 11, 'Waist': 24, 'Hip': 35, 'Gender': 'F'}, {'ID': 12, 'Waist': 25, 'Hip': 37, 'Gender': 'F'}, {'ID': 13, 'Waist': 24, 'Hip': 37, 'Gender': 'F'}, {'ID': 14, 'Waist': 22, 'Hip': 34, 'Gender': 'F'}, {'ID': 15, 'Waist': 26, 'Hip': 38, 'Gender': 'F'}, {'ID': 16, 'Waist': 26, 'Hip': 37, 'Gender': 'F'}, {'ID': 17, 'Waist': 25, 'Hip': 38, 'Gender': 'F'}, {'ID': 18, 'Waist': 26, 'Hip': 37, 'Gender': 'F'}, {'ID': 19, 'Waist': 28, 'Hip': 40, 'Gender': 'F'}, {'ID': 20, 'Waist': 23, 'Hip': 35, 'Gender': 'F'}]\n",
      "<class 'list'>\n",
      "<class 'dict'>\n",
      "20\n"
     ]
    }
   ],
   "source": [
    "# Anthonie Hollaar\n",
    "# Date: 10-22-2019 (mm-dd-yyyy)\n",
    "\n",
    "# Goal: Scrub and convert the data, loading it into a new list called rows\n",
    "\n",
    "# Strips out newline '\\n' characters and converts to a list\n",
    "raw_rows = [r.rstrip('\\n').split(',') for r in raw_lines] # <--- Whoa. Why does this work? \n",
    "\n",
    "# Creates a new list, starting with just the column names\n",
    "rows = list() \n",
    "\n",
    "# The first row is the keys wit the column names\n",
    "keys = raw_rows[0];\n",
    "\n",
    "# Convert each row_row, starting with the second\n",
    "for raw_row in raw_rows[1:]:\n",
    "    \n",
    "    # Note: the values in the raw_row list are all strings.\n",
    "    # Create a new list called row that converts each item in raw_row to the right data type  \n",
    "    row = [int(raw_row[0]),int(raw_row[1]),int(raw_row[2]),raw_row[3]] # FIX THIS; you'll need to use conversion functions\n",
    "    \n",
    "    # structure the row as a dict  <-- FIX THIS: Write your code below\n",
    "    row_dict = dict(zip(keys, row)) #code Tony: create a new dictionary with name 'row_dict' and the list 'keys' is for the keys, 'row' for the values\n",
    "    \n",
    "    # Append the new row to the rows list as a dictionary <-- FIX THIS: Write your code below\n",
    "    rows.append(row_dict) #code Tony: within the loop add each row to the previous rows iterated through from the loop\n",
    "    \n",
    "# from here on out use the rows list instead of raw_rows or raw_lines\n",
    "#print(raw_rows)\n",
    "print(rows)\n",
    "print(type(rows))\n",
    "print(type(rows[1]))\n",
    "print(len(rows))"
   ]
  },
  {
   "cell_type": "markdown",
   "metadata": {},
   "source": [
    "## Calculations"
   ]
  },
  {
   "cell_type": "code",
   "execution_count": 207,
   "metadata": {},
   "outputs": [
    {
     "name": "stdout",
     "output_type": "stream",
     "text": [
      "({'ID': 1, 'Waist': 30, 'Hip': 32, 'Gender': 'M', 'W2H Ratio': 0.9375, 'Shape': 'Apple'}, {'ID': 2, 'Waist': 32, 'Hip': 37, 'Gender': 'M', 'W2H Ratio': 0.8648648648648649, 'Shape': 'Pear'}, {'ID': 3, 'Waist': 30, 'Hip': 36, 'Gender': 'M', 'W2H Ratio': 0.8333333333333334, 'Shape': 'Pear'}, {'ID': 4, 'Waist': 33, 'Hip': 39, 'Gender': 'M', 'W2H Ratio': 0.8461538461538461, 'Shape': 'Pear'}, {'ID': 5, 'Waist': 29, 'Hip': 33, 'Gender': 'M', 'W2H Ratio': 0.8787878787878788, 'Shape': 'Pear'}, {'ID': 6, 'Waist': 32, 'Hip': 38, 'Gender': 'M', 'W2H Ratio': 0.8421052631578947, 'Shape': 'Pear'}, {'ID': 7, 'Waist': 33, 'Hip': 42, 'Gender': 'M', 'W2H Ratio': 0.7857142857142857, 'Shape': 'Pear'}, {'ID': 8, 'Waist': 30, 'Hip': 40, 'Gender': 'M', 'W2H Ratio': 0.75, 'Shape': 'Pear'}, {'ID': 9, 'Waist': 30, 'Hip': 37, 'Gender': 'M', 'W2H Ratio': 0.8108108108108109, 'Shape': 'Pear'}, {'ID': 10, 'Waist': 32, 'Hip': 39, 'Gender': 'M', 'W2H Ratio': 0.8205128205128205, 'Shape': 'Pear'}, {'ID': 11, 'Waist': 24, 'Hip': 35, 'Gender': 'F', 'W2H Ratio': 0.6857142857142857, 'Shape': 'Pear'}, {'ID': 12, 'Waist': 25, 'Hip': 37, 'Gender': 'F', 'W2H Ratio': 0.6756756756756757, 'Shape': 'Pear'}, {'ID': 13, 'Waist': 24, 'Hip': 37, 'Gender': 'F', 'W2H Ratio': 0.6486486486486487, 'Shape': 'Pear'}, {'ID': 14, 'Waist': 22, 'Hip': 34, 'Gender': 'F', 'W2H Ratio': 0.6470588235294118, 'Shape': 'Pear'}, {'ID': 15, 'Waist': 26, 'Hip': 38, 'Gender': 'F', 'W2H Ratio': 0.6842105263157895, 'Shape': 'Pear'}, {'ID': 16, 'Waist': 26, 'Hip': 37, 'Gender': 'F', 'W2H Ratio': 0.7027027027027027, 'Shape': 'Pear'}, {'ID': 17, 'Waist': 25, 'Hip': 38, 'Gender': 'F', 'W2H Ratio': 0.6578947368421053, 'Shape': 'Pear'}, {'ID': 18, 'Waist': 26, 'Hip': 37, 'Gender': 'F', 'W2H Ratio': 0.7027027027027027, 'Shape': 'Pear'}, {'ID': 19, 'Waist': 28, 'Hip': 40, 'Gender': 'F', 'W2H Ratio': 0.7, 'Shape': 'Pear'}, {'ID': 20, 'Waist': 23, 'Hip': 35, 'Gender': 'F', 'W2H Ratio': 0.6571428571428571, 'Shape': 'Pear'})\n",
      "20\n"
     ]
    }
   ],
   "source": [
    "# Anthonie Hollaar\n",
    "# Date: 10-22-2019 (mm-dd-yyyy)\n",
    "\n",
    "# Goal: For each row of data calculate and store the w2h_ratio and shape.\n",
    "\n",
    "# Create an empty list, called 'list_new_row' (This list will be used to fill with dictionaries in a loop later)\n",
    "list_new_row = []\n",
    "# Define the headers (which will be used as keys for the corresponding values of each dictionary)\n",
    "headers = ['ID', 'Waist', 'Hip', 'Gender', 'W2H Ratio', 'Shape']\n",
    "\n",
    "# Iterate through the list 'rows' with length of 21 items (o through 20)\n",
    "for i in range(0,20):  \n",
    "    # iterate through every item (key and value pair) in a dictionary of the list named 'rows'\n",
    "    for k,v in rows[i].items():\n",
    "        # IF the key equals 'ID', appends its corresponding value to a new list called 'list_new_row'\n",
    "        if k == 'ID':\n",
    "            id = v\n",
    "            list_new_row.append(v)\n",
    "        # IF the key equals 'Waist', appends its corresponding value to a new list called 'list_new_row'    \n",
    "        elif k == 'Waist':\n",
    "            waist_value = v\n",
    "            list_new_row.append(v)\n",
    "        # IF the key equals 'Hip', appends its corresponding value to a new list called 'list_new_row'        \n",
    "        elif k == 'Hip':\n",
    "            hip_value = v\n",
    "            list_new_row.append(v)\n",
    "        # IF the key equals 'Gender', appends its corresponding value to a new list called 'list_new_row'        \n",
    "        elif k == 'Gender':\n",
    "            gender_value = v\n",
    "            list_new_row.append(v)\n",
    "            \n",
    "            # Define the formula for the Waist-to-Hip Ratio, measured waist divided by measured hip\n",
    "            w2h_ratio = waist_value/hip_value\n",
    "            list_new_row.append(w2h_ratio)\n",
    "            \n",
    "            # Define the shape value for men and women, namely 'Apple' and 'Pear'\n",
    "            #IF male and waist-to-hip ratio is bigger than 0.9 OR female and waist-to-hip ratio is bigger than 0.8, THEN shape equals 'Apple'\n",
    "            if ((gender_value == 'M' and w2h_ratio > 0.9) or (gender_value == 'F' and w2h_ratio > 0.8)):\n",
    "                shape = 'Apple'\n",
    "            #ELSE if the previous condition doesn't hold true, the shape of a male/female equals 'Pear'\n",
    "            else:\n",
    "                shape = 'Pear'\n",
    "            # append the output of the calculated shape of the subject, which is either 'Apple' OR 'Pear' to the list called 'list_new_row'      \n",
    "            list_new_row.append(shape)\n",
    "            \n",
    "            #create 20 libraries with each holding the data for a respective subject (with their ID, Hip, Waist, Waist-to-Hip ratio, Shape)\n",
    "            dict1 = dict(zip(headers*1, list_new_row)) \n",
    "            dict2 = dict(zip(headers*2, list_new_row)) \n",
    "            dict3 = dict(zip(headers*3, list_new_row)) \n",
    "            dict4 = dict(zip(headers*4, list_new_row))\n",
    "            dict5 = dict(zip(headers*5, list_new_row))\n",
    "            dict6 = dict(zip(headers*6, list_new_row))\n",
    "            dict7 = dict(zip(headers*7, list_new_row))\n",
    "            dict8 = dict(zip(headers*8, list_new_row))\n",
    "            dict9 = dict(zip(headers*9, list_new_row))\n",
    "            dict10 = dict(zip(headers*10, list_new_row))\n",
    "            dict11 = dict(zip(headers*11, list_new_row))\n",
    "            dict12 = dict(zip(headers*12, list_new_row))\n",
    "            dict13 = dict(zip(headers*13, list_new_row))\n",
    "            dict14 = dict(zip(headers*14, list_new_row))\n",
    "            dict15 = dict(zip(headers*15, list_new_row))\n",
    "            dict16 = dict(zip(headers*16, list_new_row))\n",
    "            dict17 = dict(zip(headers*17, list_new_row))\n",
    "            dict18 = dict(zip(headers*18, list_new_row))\n",
    "            dict19 = dict(zip(headers*19, list_new_row))\n",
    "            dict20 = dict(zip(headers*20, list_new_row))\n",
    "\n",
    "#define the list of libraries (appending all libraries)            \n",
    "list_all = (dict1, dict2, dict3, dict4, dict5, dict6, dict7, dict8, dict9, dict10, dict11, dict12, dict13, dict14, dict15, dict16, dict17, dict18, dict19, dict20)\n",
    "\n",
    "#print the list\n",
    "print(list_all)\n",
    "\n",
    "#print the number of items in the list (#dictionaries)\n",
    "print(len(list_all))"
   ]
  },
  {
   "cell_type": "code",
   "execution_count": 208,
   "metadata": {
    "collapsed": true
   },
   "outputs": [],
   "source": [
    "# Note Tony - Original Code from file (kept for comparison)\n",
    "# Goal: For each row of data calculate and store the w2h_ratio and shape.\n",
    "\n",
    "# Adds columns for the two new variables\n",
    "#rows[0].extend([\"W2H Ratio\",\"Shape\"])\n",
    "\n",
    "# For each row in the rows list, calculate the waist to hips ratio and shape\n",
    "#for row in rows[1:]:\n",
    "   \n",
    "    # Calculate the w2h_ratio \n",
    "    #w2h_ratio = float(row[1])/float(row[2]) # CHECK THIS; compare whether you did this in part 1\n",
    "    \n",
    "    # Based on the ratio and the gender, set the variable shape to either 'apple' or 'pear'\n",
    "    #shape = 'Pear' # CHECK THIS; compare whether you did this in part 1\n",
    "    #if ((row[3]=='M' and w2h_ratio > 0.9) or (row[3] == 'F' and w2h_ratio > 0.8)) :\n",
    "        #shape = \"Apple\"\n",
    "    #else:\n",
    "        #shape = \"Pear\"\n",
    "    \n",
    "    # Add the new data to the end of the row\n",
    "    #row += [w2h_ratio, shape] # note: += is shorthand for the extend method used above\n",
    "    "
   ]
  },
  {
   "cell_type": "markdown",
   "metadata": {},
   "source": [
    "## Output"
   ]
  },
  {
   "cell_type": "code",
   "execution_count": 162,
   "metadata": {
    "collapsed": false
   },
   "outputs": [
    {
     "data": {
      "text/html": [
       "<table><tr><th>ID</th><th>Waist</th><th>Hip</th><th>Gender</th><th>W2H Ratio</th><th>Shape</th></tr><tr><td>1</td><td>30</td><td>32</td><td>M</td><td>0.9375</td><td>Apple</td></tr><tr><td>2</td><td>32</td><td>37</td><td>M</td><td>0.8648648648648649</td><td>Pear</td></tr><tr><td>3</td><td>30</td><td>36</td><td>M</td><td>0.8333333333333334</td><td>Pear</td></tr><tr><td>4</td><td>33</td><td>39</td><td>M</td><td>0.8461538461538461</td><td>Pear</td></tr><tr><td>5</td><td>29</td><td>33</td><td>M</td><td>0.8787878787878788</td><td>Pear</td></tr><tr><td>6</td><td>32</td><td>38</td><td>M</td><td>0.8421052631578947</td><td>Pear</td></tr><tr><td>7</td><td>33</td><td>42</td><td>M</td><td>0.7857142857142857</td><td>Pear</td></tr><tr><td>8</td><td>30</td><td>40</td><td>M</td><td>0.75</td><td>Pear</td></tr><tr><td>9</td><td>30</td><td>37</td><td>M</td><td>0.8108108108108109</td><td>Pear</td></tr><tr><td>10</td><td>32</td><td>39</td><td>M</td><td>0.8205128205128205</td><td>Pear</td></tr><tr><td>11</td><td>24</td><td>35</td><td>F</td><td>0.6857142857142857</td><td>Pear</td></tr><tr><td>12</td><td>25</td><td>37</td><td>F</td><td>0.6756756756756757</td><td>Pear</td></tr><tr><td>13</td><td>24</td><td>37</td><td>F</td><td>0.6486486486486487</td><td>Pear</td></tr><tr><td>14</td><td>22</td><td>34</td><td>F</td><td>0.6470588235294118</td><td>Pear</td></tr><tr><td>15</td><td>26</td><td>38</td><td>F</td><td>0.6842105263157895</td><td>Pear</td></tr><tr><td>16</td><td>26</td><td>37</td><td>F</td><td>0.7027027027027027</td><td>Pear</td></tr><tr><td>17</td><td>25</td><td>38</td><td>F</td><td>0.6578947368421053</td><td>Pear</td></tr><tr><td>18</td><td>26</td><td>37</td><td>F</td><td>0.7027027027027027</td><td>Pear</td></tr><tr><td>19</td><td>28</td><td>40</td><td>F</td><td>0.7</td><td>Pear</td></tr><tr><td>20</td><td>23</td><td>35</td><td>F</td><td>0.6571428571428571</td><td>Pear</td></tr></table>"
      ],
      "text/plain": [
       "<IPython.core.display.HTML object>"
      ]
     },
     "metadata": {},
     "output_type": "display_data"
    }
   ],
   "source": [
    "# Anthonie Hollaar\n",
    "# Date: 10-22-2019 (mm-dd-yyyy)\n",
    "# Goal: pretty print the rows as an HTML table\n",
    "# note: changed the previous variable to: 'list_all' created earlier\n",
    "\n",
    "# Note: this works, but we can do this much better with pandas\n",
    "html_table = '<table><tr><th>'\n",
    "html_table += \"</th><th>\".join(list_all[0].keys())\n",
    "html_table += '</th></tr>'\n",
    "for row in list_all:\n",
    "    html_table += \"<tr><td>\"\n",
    "    html_table += \"</td><td>\".join(str(v) for v in row.values())\n",
    "    html_table += \"</td></tr>\"\n",
    "html_table += \"</table>\"\n",
    "\n",
    "from IPython.display import HTML, display\n",
    "\n",
    "# display the previous defined table called 'html_table'\n",
    "display(HTML(html_table))"
   ]
  },
  {
   "cell_type": "code",
   "execution_count": 202,
   "metadata": {},
   "outputs": [],
   "source": [
    "# Anthonie Hollaar\n",
    "# Date: 10-22-2019 (mm-dd-yyyy)\n",
    "# Source used: https://programminghistorian.org/en/lessons/creating-and-viewing-html-files-with-python#creating-html-with-python\n",
    "\n",
    "# define the filename which has to be created / w stands for write\n",
    "f = open('StatsResults.html','w')\n",
    "\n",
    "# define the html-table - for the 'list_all' which is a list of dictionaries \n",
    "#the <table> tag is a block element used to create a table.\n",
    "html_table = '<table><tr><th>'\n",
    "#The HTML <th> element defines a cell as header of a group of table cells\n",
    "html_table += \"</th><th>\".join(list_all[0].keys())\n",
    "#The HTML <tr> element defines a row of cells in a table\n",
    "html_table += '</th></tr>'\n",
    "for row in list_all:\n",
    "    #The <td> tag defines a standard cell in an HTML table.\n",
    "    html_table += \"<tr><td>\"\n",
    "    html_table += \"</td><td>\".join(str(v) for v in row.values())\n",
    "    html_table += \"</td></tr>\"\n",
    "# the </table> tag is a block element used to define the end of the table.    \n",
    "html_table += \"</table>\"\n",
    "\n",
    "# create the file 'html_table'\n",
    "f.write(html_table)\n",
    "\n",
    "# close the file and free up any system resources taken up by the open file\n",
    "f.close()"
   ]
  }
 ],
 "metadata": {
  "kernelspec": {
   "display_name": "Python 3",
   "language": "python",
   "name": "python3"
  },
  "language_info": {
   "codemirror_mode": {
    "name": "ipython",
    "version": 3
   },
   "file_extension": ".py",
   "mimetype": "text/x-python",
   "name": "python",
   "nbconvert_exporter": "python",
   "pygments_lexer": "ipython3",
   "version": "3.6.7"
  }
 },
 "nbformat": 4,
 "nbformat_minor": 2
}
